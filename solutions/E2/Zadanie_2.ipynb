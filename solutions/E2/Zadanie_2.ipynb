{
 "cells": [
  {
   "cell_type": "code",
   "execution_count": 1,
   "metadata": {},
   "outputs": [],
   "source": [
    "import numpy as np\n",
    "import random\n",
    "from typing import Callable\n",
    "from copy import deepcopy\n",
    "import matplotlib.pyplot as plt"
   ]
  },
  {
   "cell_type": "markdown",
   "metadata": {},
   "source": [
    "# Zadanie 2\n",
    "## Damian Baraniak 324851\n",
    "#### WSI-24L-G104\n",
    "Celem zadania jest implementacja algorymtu ewolucyjnego oraz weryfikacja jego działania na przykładzie minimalizacji dwóch funckcji dwuwymiarowych.\n",
    "- Funkcja Himmelblau:\n",
    "    $$ f(x,y)=(x^2+y-11)^2+(x+y^2-7)^2 $$ \n",
    "- Funckcja Ackleya w wersji dwuwymiarowej:\n",
    "    $$ f(x,y) = -20\\exp(-0.2\\sqrt{0.5(x^2+y^2)})-\\exp(0.5(\\cos2\\pi x+\\cos2\\pi y))+20+e $$"
   ]
  },
  {
   "cell_type": "code",
   "execution_count": 2,
   "metadata": {},
   "outputs": [],
   "source": [
    "def himmelblau_function(x:float,y:float)->float:\n",
    "    elem1 = (x**2 + y - 11)**2 \n",
    "    elem2 = (x + y**2 - 7)**2\n",
    "    return elem1+elem2\n",
    "\n",
    "def ackley_function(x:float,y:float)->float:\n",
    "    elem1 = np.exp(-0.2*np.sqrt(0.5*(x**2+y**2)))\n",
    "    elem2 = np.exp(0.5*(np.cos(2*np.pi*x)+np.cos(2*np.pi*y)))\n",
    "    return -20*elem1-elem2+20+np.e"
   ]
  },
  {
   "cell_type": "markdown",
   "metadata": {},
   "source": [
    "## Struktura algorytmu\n",
    "Algorytm do poprawnego działania potrzebuje szeregu parametrów. Są to:\n",
    "- funckcja oceny - funkcja oceniająca osobniki, który najlepiej spełnia wymagania, w naszym przypadku jest to minimalizowanie podanych funkcji\n",
    "- populacja początkowa - określona grupa osobników początkowych, wygenerowana losowo w pewnym obszarze\n",
    "- prawdopodobnieństwo krzyżowania - określa jak często będzie dochodzić do krzyżowania między osobnikami\n",
    "- siła mutacji - określa jak bardzo cechy osobnika mogą się zmieniać w wyniku mutacji\n",
    "- liczba iteracji - ile razy należy powtórzyć proces ewolucji\n",
    "\n",
    "### Osobnik \n",
    "Do działania algorytmu potrzebny jest osobnik który może podlegać ocenie, mutacji i krzyżowaniu w tym przypadku jest to dwu-wymiarowy wektor $[x,y]$\n",
    "\n",
    "### Proces\n",
    "Cały proces zaczyna się na wylosowaniu początkowej populacji oraz oceny wszystkich osobników, następnie powtarza się:\n",
    "- reprodukcje czyli wybór osobników do dalszych działań\n",
    "- krzyżowanie osobników\n",
    "- mutacje osobników\n",
    "- ocene powstałych osobników\n",
    "- porównanie najlepszych osobników\n",
    "- wybranie osobników przchodzących do następnej iteracji\n",
    "\n",
    "W zadaniu wybrano metody: reprodukcji turniejowej, krzyżowania uśredniającego, mutacji rozkładem normalnym oraz sukcesje elitarną o elicie wielkości 1.\n"
   ]
  },
  {
   "cell_type": "markdown",
   "metadata": {},
   "source": [
    "### Reprodukcja turniejowa\n",
    "Z aktualnej populacji losuje się ze zwracaniem osobniki do grupy turniejowej, następnie z grupy wybiera takiego osobnika, którego cechy dają najlepszy wynik w tym przypadku, któego wartość jest najmniejsza. Proces jest powtarzany, aż powstanie nowa populacja o takim samym rozmiarze. Losowanie ze zwracaniem może powodować, że niektóre, lepsze osobniki znajdą się w nowej populacji kilka razy, dodatkowo każdy osobnik ma jakąś szasnę przetrwania, nawet najgorszy jeśli wylosuj sam siebie do turnieju."
   ]
  },
  {
   "cell_type": "code",
   "execution_count": 3,
   "metadata": {},
   "outputs": [],
   "source": [
    "def tournament_selection(population,competition):\n",
    "    temp_population = []\n",
    "    while len(temp_population)<len(population):\n",
    "        # losowanie grup turniejowych\n",
    "        group = random.choices(population,k=competition)\n",
    "        # wybór najlepszego osobnika\n",
    "        temp_population.append(min(group,key=lambda ind:ind.value))\n",
    "    return temp_population"
   ]
  },
  {
   "cell_type": "markdown",
   "metadata": {},
   "source": [
    "### Sukcjesja elitarna\n",
    "Sukcesja elitarna polega na doklejeniu do aktualnej populacji $\\eta$ najlepszych osobników z porzedniej populacji, a następnie odrzuceniu $\\eta$ najgorszych osobników, aby końcowy rozmiar populacji nie uległ zmianie. Zbyt duża ilość osobników doklejanych może sprawić utknięcie w ekstremach lokalnych, dlatego postanowiono ustanowić rozmiar elity jako $\\eta = 1$."
   ]
  },
  {
   "cell_type": "code",
   "execution_count": 4,
   "metadata": {},
   "outputs": [],
   "source": [
    "def succession_phase(population,best):\n",
    "    population.append(deepcopy(best))\n",
    "    # sortowanie populacji rosnąco względem wartości funkcji dla osobnika\n",
    "    population.sort(key = lambda ind:ind.value)\n",
    "    population.pop()"
   ]
  },
  {
   "cell_type": "markdown",
   "metadata": {},
   "source": [
    "### Krzyżowanie uśredniające i mutacja\n",
    "Mutacja osobników jest siłą algorytmu ewolucyjnego, a nie krzyżowanie, mimo wszystko zostało tutaj zaimplementowane. Dla każdego osobnika w populacji jest losowane czy dojdzie do krzyżowania, jeśli nie to taki osobnik przechodzi dalej. Jeśli dojdzie do krzyżowania, losowany jest kolejny rodzic, następnie ich cechy są uśredniane przy pomocy wag: $k_t = w_t\\cdot R_{t1}+(1-w_t)\\cdot R_{t2}$, dla każdej cechy losowana jest osobna waga.\n",
    "W algorytmie ewolucyjnym każdy osobnik przechodzi mutacje, jest to zmiana wszystkich cech osobnika: $x_{t} = x_t + \\sigma \\cdot N(0,1)$, $\\sigma$ oznacza tutaj siłę mutacji, czyli jak bardzo osobnik może się zmienić."
   ]
  },
  {
   "cell_type": "markdown",
   "metadata": {},
   "source": [
    "#### Implementacja osobnika z możliwością porównania osobników, operatorami mutacji oraz krzyżowania"
   ]
  },
  {
   "cell_type": "code",
   "execution_count": 5,
   "metadata": {},
   "outputs": [],
   "source": [
    "class Individual:\n",
    "    def __init__(self,position):\n",
    "        self.position = position\n",
    "        self.size = len(position)\n",
    "        self.value = None\n",
    "\n",
    "    def evaluate(self, func):\n",
    "        self.value = func(*self.position)\n",
    "    \n",
    "    def __lt__(self,other):\n",
    "        return self.value<other.value\n",
    "      \n",
    "    def __str__(self) -> str:\n",
    "        return f\"Position: {self.position}, value: {self.value}\"\n",
    "    \n",
    "    def mutate(self, strength):\n",
    "        temp_position = []\n",
    "        for gene in self.position:\n",
    "            temp_position.append(gene + strength*random.gauss(0,1))\n",
    "        self.position = temp_position\n",
    "    \n",
    "    def crossover(self,other):\n",
    "        assert self.size == other.size\n",
    "        result_position = []\n",
    "        for i in range(self.size):    \n",
    "            weight = random.random()\n",
    "            gene = self.position[i]*weight+other.position[i]*(1-weight)\n",
    "            result_position.append(gene)\n",
    "        return Individual(result_position)"
   ]
  },
  {
   "cell_type": "markdown",
   "metadata": {},
   "source": [
    "#### Implementacja etapów krzyżowania i mutacji"
   ]
  },
  {
   "cell_type": "code",
   "execution_count": 6,
   "metadata": {},
   "outputs": [],
   "source": [
    "def crossover_phase(population, probability):\n",
    "    temp_population = []\n",
    "    for individual in population:\n",
    "        if random.random()<probability:\n",
    "            other = random.choice(population)\n",
    "            temp_population.append(individual.crossover(other))\n",
    "        else:\n",
    "            temp_population.append(individual)\n",
    "    return temp_population\n",
    "\n",
    "\n",
    "def mutate_phase(population,mutation_strentgth):\n",
    "    temp_population = []\n",
    "    for individual in population:\n",
    "        individual.mutate(mutation_strentgth)\n",
    "        temp_population.append(individual)\n",
    "    return temp_population"
   ]
  },
  {
   "cell_type": "markdown",
   "metadata": {},
   "source": [
    "### Generowanie populacji początkowej\n",
    "Z racji, że znamy w przybliżeniu funkcje możemy ustawić pewne ograniczenia jeśli chodzi o generowane punkty początkowe, interesuje nas przedział $x,y \\in [-5,5] \\times [-5,5]$, ważne jest natomiast wybranie rozmiaru populajci, za mała może utrudnić przeszukiwanie przestrzenie, ale za duża znacznie spowolni cały proces. "
   ]
  },
  {
   "cell_type": "code",
   "execution_count": 7,
   "metadata": {},
   "outputs": [],
   "source": [
    "def generate_population(size:int,restrictions):\n",
    "    population = list()\n",
    "    for _ in range(size):\n",
    "        # Losowanie punktu początkowego przestrzegając ograniczeń\n",
    "        position = [random.uniform(restrictions[i][0],restrictions[i][1]) for i in range(len(restrictions))]\n",
    "        population.append(Individual(position))\n",
    "    return population\n"
   ]
  },
  {
   "cell_type": "markdown",
   "metadata": {},
   "source": [
    "### Ocena populacji \n",
    "Przed podejmowanie decyzji o dalszym wyborze osobników, potrzeba możliwości uczciwego porównywania ich, do tego przyda się funckja oceny populacji. W tym przypadku minimalizujemy funkcje, więc sortujemy osobniki rosnąco w populacji. "
   ]
  },
  {
   "cell_type": "code",
   "execution_count": 8,
   "metadata": {},
   "outputs": [],
   "source": [
    "def rate_individuals(population,func):\n",
    "    for individual in population:\n",
    "        individual.evaluate(func)\n",
    "    population.sort(key=lambda ind:ind.value)"
   ]
  },
  {
   "cell_type": "code",
   "execution_count": 9,
   "metadata": {},
   "outputs": [],
   "source": [
    "def evolutionary_algorithm(func,start_population,iteration_time,mutation_strength,crossover_probability):\n",
    "    population = deepcopy(start_population)\n",
    "    rate_individuals(population,func)\n",
    "    best_individual = deepcopy(population[0])\n",
    "    trace = {}\n",
    "    for step in range(iteration_time):\n",
    "        trace[step] = population\n",
    "        population = tournament_selection(population,2)\n",
    "        population = crossover_phase(population,crossover_probability)\n",
    "        population = mutate_phase(population,mutation_strength)\n",
    "        rate_individuals(population,func)\n",
    "        succession_phase(population,best_individual)\n",
    "        if population[0]<best_individual:\n",
    "            best_individual = deepcopy(population[0])\n",
    "    return trace"
   ]
  }
 ],
 "metadata": {
  "kernelspec": {
   "display_name": "Python 3",
   "language": "python",
   "name": "python3"
  },
  "language_info": {
   "codemirror_mode": {
    "name": "ipython",
    "version": 3
   },
   "file_extension": ".py",
   "mimetype": "text/x-python",
   "name": "python",
   "nbconvert_exporter": "python",
   "pygments_lexer": "ipython3",
   "version": "3.11.5"
  }
 },
 "nbformat": 4,
 "nbformat_minor": 2
}
