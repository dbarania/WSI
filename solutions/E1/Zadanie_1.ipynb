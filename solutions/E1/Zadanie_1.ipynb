{
 "cells": [
  {
   "cell_type": "markdown",
   "metadata": {},
   "source": [
    "# Zadanie 1 \n",
    "##### WSI-24L-G104\n",
    "Celem zadanie jest implementacja metody gradientu prostego dla dwóch funkcji:\n",
    "- Funkcja Himmelblau:\n",
    "    $$ f(x,y)=(x^2+y-11)^2+(x+y^2-7)^2 $$ \n",
    "- Funckcja Ackleya w wersji dwuwymiarowej:\n",
    "    $$ f(x,y) = -20\\exp(-0.2\\sqrt{0.5(x^2+y^2)})-\\exp(0.5(\\cos2\\pi x+\\cos2\\pi y))+20+e $$\n"
   ]
  }
 ],
 "metadata": {
  "kernelspec": {
   "display_name": "Python 3",
   "language": "python",
   "name": "python3"
  },
  "language_info": {
   "codemirror_mode": {
    "name": "ipython",
    "version": 3
   },
   "file_extension": ".py",
   "mimetype": "text/x-python",
   "name": "python",
   "nbconvert_exporter": "python",
   "pygments_lexer": "ipython3",
   "version": "3.11.5"
  }
 },
 "nbformat": 4,
 "nbformat_minor": 2
}
