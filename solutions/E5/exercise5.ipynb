{
 "cells": [
  {
   "cell_type": "code",
   "execution_count": 3,
   "metadata": {},
   "outputs": [],
   "source": [
    "import numpy as np\n",
    "import h5py\n",
    "import matplotlib.pyplot as plt\n",
    "from neural_network import NeuralNetwork"
   ]
  },
  {
   "cell_type": "code",
   "execution_count": 5,
   "metadata": {},
   "outputs": [
    {
     "name": "stdout",
     "output_type": "stream",
     "text": [
      "[array([[-0.14115403, -0.01358996,  0.56304016,  0.06606496],\n",
      "       [-0.41679373, -0.27652526, -0.20647908, -0.19082555],\n",
      "       [-0.46780175, -0.28421479, -0.2543726 ,  0.49051808],\n",
      "       [ 0.00967069, -0.52467735, -0.54378305, -0.15178162],\n",
      "       [ 0.22729764, -0.53137237, -0.18534303,  0.40126338]]), array([[ 0.11052946, -0.15659258,  0.39846295,  0.23311869, -0.1385221 ,\n",
      "        -0.29236302],\n",
      "       [ 0.21467536, -0.07237006,  0.25403479, -0.11290637, -0.03378731,\n",
      "        -0.34808663],\n",
      "       [ 0.3611357 ,  0.06330553,  0.0894542 ,  0.24630316, -0.29182526,\n",
      "         0.27275657],\n",
      "       [ 0.16550032, -0.1834235 ,  0.31570629,  0.37923761,  0.03581473,\n",
      "        -0.27610299]]), array([[0., 0., 0., 0., 0.],\n",
      "       [0., 0., 0., 0., 0.]])]\n"
     ]
    }
   ],
   "source": [
    "sizes = [3,5,4,2]\n",
    "\n",
    "network = NeuralNetwork(sizes)\n",
    "print(network._weights)"
   ]
  }
 ],
 "metadata": {
  "kernelspec": {
   "display_name": "Python 3",
   "language": "python",
   "name": "python3"
  },
  "language_info": {
   "codemirror_mode": {
    "name": "ipython",
    "version": 3
   },
   "file_extension": ".py",
   "mimetype": "text/x-python",
   "name": "python",
   "nbconvert_exporter": "python",
   "pygments_lexer": "ipython3",
   "version": "3.12.3"
  }
 },
 "nbformat": 4,
 "nbformat_minor": 2
}
