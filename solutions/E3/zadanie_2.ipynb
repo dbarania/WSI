{
 "cells": [
  {
   "cell_type": "code",
   "execution_count": 282,
   "metadata": {},
   "outputs": [],
   "source": [
    "import numpy as np\n",
    "import copy\n",
    "import random\n",
    "from itertools import product\n",
    "from tictactoe import TicTacToe\n",
    "from time import time"
   ]
  },
  {
   "cell_type": "markdown",
   "metadata": {},
   "source": [
    "# Zadanie 3\n",
    "## Damian Baraniak 324851\n",
    "#### WSI-24L-G104\n",
    "Celem zadania jest implementacja algorytmów minimax oraz poprawionej wersji z odcięciem $\\alpha - \\beta$ do gry kółko i krzyżyk.\n",
    "Przyjęto wersje, w której użytkownik gra z programem.\n",
    "Aby zagrać należy wykonać plik `tictactoe.py`, zmiana poziomu trudności(głębokości przeszukiwania) znajduje się w wywołaniu konstruktora.\n",
    "\n",
    "Dla ułatwienia implementacji użytkownik gra zawsze jako O, natomiast komputer zawsze jako X, kolejność jest losowa."
   ]
  },
  {
   "cell_type": "markdown",
   "metadata": {},
   "source": [
    "## Mini-Max w wersji podstawowej\n",
    "### Opis działania algorytmu\n",
    "Do działania, algorytm potrzebuje dostarczonego aktualnego stanu gry, głębokości na jakiej ma przeszukiwać przestrzeń rozwiązań oraz informację czyj ruch jest teraz wykonywany.\n",
    "#### Stany końcowe gry\n",
    "Pierwszą wykonywaną operacją jest sprawdzenie, czy podany stan gry nie oznacza zakończenia gry, albo dotarcia już do maksymalnej głębokości przeszukiwania. Jeśli jeden z tych warunków jest prawdziwy, ustawienie planszy podlega ocenie przez heurystyczną funkcję wypłaty. W przypadku implementacji zdecydowano się na zawarcie wszystkich czynności w jednej funkcji. Funkcja wypłaty analizuje trzy możliwe sytuacje:\n",
    "- Jeśli gra nie uległa jeszcze zakończeniu zostaje zwrócone 0\n",
    "- Jeśli gra zakończyła się remisem, jest zwracana bardzo mała wartość 0.0001 o znaku zależnym od tego kto się rusza.\n",
    "- Jeśli aktualny stan kończy grę zwycięstwem zawodnika zostaje zwrócona wartość 10  o znaku zależnym od tego kto się rusza.\n",
    "Aby zachęcić algorytm do wybierania zakończeń bliższych, wynik zwrócony przez funkcję jest mnożony razy głębokość jaka jeszcze pozostała do sprawdzenia."
   ]
  },
  {
   "cell_type": "code",
   "execution_count": 283,
   "metadata": {},
   "outputs": [],
   "source": [
    "def check_board(board:np.ndarray,who_is_moving:int):\n",
    "    result = who_is_moving*10\n",
    "    if np.count_nonzero(board)==9:\n",
    "        return 0.0001*who_is_moving\n",
    "    for row in board:\n",
    "        if (row==who_is_moving).sum()==3:\n",
    "            return result\n",
    "    for row in board.transpose():\n",
    "        if (row==who_is_moving).sum()==3:\n",
    "            return result\n",
    "    if (board.diagonal()==who_is_moving).sum()==3:\n",
    "        return result\n",
    "    elif (np.fliplr(board).diagonal()==who_is_moving).sum()==3:\n",
    "        return result\n",
    "    return 0"
   ]
  },
  {
   "cell_type": "markdown",
   "metadata": {},
   "source": [
    "#### Generowanie nowych ruchów\n",
    "Jeśli algorytm nie znalazł się w stanie końcowym generowana jest lista wszystkich dostępnych kolejnych ruchów dla kolejnego zawodnika."
   ]
  },
  {
   "cell_type": "code",
   "execution_count": 284,
   "metadata": {},
   "outputs": [],
   "source": [
    "def generate_next_moves(board:np.ndarray):\n",
    "    states = []\n",
    "    comb =  product([0,1,2],[0,1,2])\n",
    "    for i in comb:\n",
    "        if not board[*i]:\n",
    "            states.append(i)\n",
    "    return states\n"
   ]
  },
  {
   "cell_type": "markdown",
   "metadata": {},
   "source": [
    "Następnie iterując przez wszystkie możliwe ruchy jest tworzona tymczasowa wersja plansza zaktualizowana o aktualny ruch. Dla tak przygotowanej planszy jest wywoływany rekurencyjnie algorytm minimax, z nową głębokością oraz ruszającym się zawodnikiem. W końcu taki alogrytm dojdzie do końca i zacznie zwracać wartości do góry. Z racji, że zakładamy grę obydwu graczy za optymalną to taką wartość ruchu wybieramy. Tak przygotowany algorytm zwraca ocenę wybranego ruchu."
   ]
  },
  {
   "cell_type": "markdown",
   "metadata": {},
   "source": [
    "### Implementacja algorytmu w języku Python"
   ]
  },
  {
   "cell_type": "code",
   "execution_count": 285,
   "metadata": {},
   "outputs": [],
   "source": [
    "def MiniMaxTicTacToe(board: np.ndarray, depth: int, move_max: bool):\n",
    "    pay = check_board(board, (1 if not move_max else -1))\n",
    "    if pay or not depth:\n",
    "        return pay * (depth + 1)\n",
    "    best = -1000 if move_max else 1000\n",
    "    moves = generate_next_moves(board)\n",
    "    for move in moves:\n",
    "        new_board = copy.copy(board)\n",
    "        new_board[*move] = 1 if move_max else -1\n",
    "        if move_max:\n",
    "            best = max(best, MiniMaxTicTacToe(new_board, depth - 1, not move_max))\n",
    "        else:\n",
    "            best = min(best, MiniMaxTicTacToe(new_board, depth - 1, not move_max))\n",
    "    return best"
   ]
  },
  {
   "cell_type": "markdown",
   "metadata": {},
   "source": [
    "## Alfa-Beta\n",
    "Rekurencyjne przeszukiwanie przestrzeni może być czasochłonne, ale zakładając optymalną grę zawodników, można nie analizować niektórych gałęzi ponieważ istnieje pewność, że nigdy nie zostaną wybrane.\n",
    "### Różnice z wersją podstawową\n",
    "Algorytmy nie różnią się między sobą do wygenerowania następników stanu planszy. Dalej, wykorzystywane są zmienne pomocnicze $\\alpha$ i $\\beta$, opisujące aktualnie najlepszą możliwość odpowiednio dla gracza Max i Min. Porównując wartości węzłów z aktualnie najlepszymi można z pewnością przyciąć drzewo, wiedząc, że konkretne ruchy nie mają podstaw zostać wybrane.\n",
    "### Implementacja w języku Python:"
   ]
  },
  {
   "cell_type": "code",
   "execution_count": 286,
   "metadata": {},
   "outputs": [],
   "source": [
    "def AlfaBeta(board: np.ndarray, depth: int, move_max: bool, alfa=-1e6, beta=1e6):\n",
    "    pay = check_board(board, (1 if not move_max else -1))\n",
    "    if pay or not depth:\n",
    "        return pay * (depth + 1)\n",
    "    moves = generate_next_moves(board)\n",
    "    if move_max:\n",
    "        for move in moves:\n",
    "            new_board = copy.copy(board)\n",
    "            new_board[*move] = 1 if move_max else -1\n",
    "            alfa = max(alfa, AlfaBeta(new_board, depth - 1, not move_max, alfa, beta))\n",
    "            if alfa >= beta:\n",
    "                return alfa\n",
    "        return alfa\n",
    "    else:\n",
    "        for move in moves:\n",
    "            new_board = copy.copy(board)\n",
    "            new_board[*move] = 1 if move_max else -1\n",
    "            beta = min(beta, AlfaBeta(new_board, depth - 1, not move_max, alfa, beta))\n",
    "            if alfa >= beta:\n",
    "                return beta\n",
    "        return beta"
   ]
  },
  {
   "cell_type": "markdown",
   "metadata": {},
   "source": [
    "## Testowanie"
   ]
  },
  {
   "cell_type": "markdown",
   "metadata": {},
   "source": [
    "### Przykładowe podejmowanie decyzji przez algorytm"
   ]
  },
  {
   "cell_type": "code",
   "execution_count": 287,
   "metadata": {},
   "outputs": [
    {
     "name": "stdout",
     "output_type": "stream",
     "text": [
      "X| |O\n",
      "-----\n",
      "O| | \n",
      "-----\n",
      "X| | \n"
     ]
    }
   ],
   "source": [
    "# Głębokość przeszukania 4\n",
    "game = TicTacToe(4)\n",
    "temp_board1 = np.array([[1,0,-1],[-1,0,0],[1,0,0]])\n",
    "game.board = copy.copy(temp_board1)\n",
    "print(game)"
   ]
  },
  {
   "cell_type": "code",
   "execution_count": 288,
   "metadata": {},
   "outputs": [
    {
     "name": "stdout",
     "output_type": "stream",
     "text": [
      "{(1, 1): 0.0001, (2, 2): 30, (2, 1): 0.0001, (1, 2): 0.0001, (0, 1): -20}\n",
      "X| |O\n",
      "-----\n",
      "O| | \n",
      "-----\n",
      "X| |X\n"
     ]
    }
   ],
   "source": [
    "game.who_is_moving = game.COMPUTER\n",
    "game.computer_move(algorithm=MiniMaxTicTacToe,debug= True)\n",
    "print(game)\n",
    "# Każdy możliwy ruch z odpowiadającą mu oceną, należy pamiętać, że indeksowanie zaczyna się od 0"
   ]
  },
  {
   "cell_type": "code",
   "execution_count": 289,
   "metadata": {},
   "outputs": [
    {
     "name": "stdout",
     "output_type": "stream",
     "text": [
      "O| |O\n",
      "-----\n",
      " | | \n",
      "-----\n",
      " | |X\n"
     ]
    }
   ],
   "source": [
    "temp_board2 = np.array([[-1,0,-1],[0,0,0],[0,0,1]])\n",
    "game.board = copy.copy(temp_board2)\n",
    "print(game)"
   ]
  },
  {
   "cell_type": "code",
   "execution_count": 290,
   "metadata": {},
   "outputs": [
    {
     "name": "stdout",
     "output_type": "stream",
     "text": [
      "{(2, 1): -40, (0, 1): -20, (1, 1): -40, (1, 0): -40, (1, 2): -40, (2, 0): -40}\n",
      "O|X|O\n",
      "-----\n",
      " | | \n",
      "-----\n",
      " | |X\n"
     ]
    }
   ],
   "source": [
    "game.who_is_moving = game.COMPUTER\n",
    "game.computer_move(algorithm=MiniMaxTicTacToe,debug= True)\n",
    "print(game)\n",
    "# Każdy możliwy ruch z odpowiadającą mu oceną"
   ]
  },
  {
   "cell_type": "markdown",
   "metadata": {},
   "source": [
    "#### Sekwencja ruchów"
   ]
  },
  {
   "cell_type": "code",
   "execution_count": 291,
   "metadata": {},
   "outputs": [
    {
     "name": "stdout",
     "output_type": "stream",
     "text": [
      "X| |O\n",
      "-----\n",
      " |O| \n",
      "-----\n",
      " | |X\n"
     ]
    }
   ],
   "source": [
    "temp_board3 = np.array([[1,0,-1],[0,-1,0],[0,0,1]])\n",
    "game.board = copy.copy(temp_board3)\n",
    "print(game)"
   ]
  },
  {
   "cell_type": "code",
   "execution_count": 292,
   "metadata": {},
   "outputs": [
    {
     "name": "stdout",
     "output_type": "stream",
     "text": [
      "{(0, 1): -40, (2, 1): -40, (1, 0): -40, (2, 0): 30, (1, 2): -40}\n",
      "X| |O\n",
      "-----\n",
      " |O| \n",
      "-----\n",
      "X| |X\n"
     ]
    }
   ],
   "source": [
    "game.who_is_moving = game.COMPUTER\n",
    "game.computer_move(algorithm=MiniMaxTicTacToe,debug= True)\n",
    "print(game)"
   ]
  },
  {
   "cell_type": "code",
   "execution_count": 293,
   "metadata": {},
   "outputs": [
    {
     "name": "stdout",
     "output_type": "stream",
     "text": [
      "X| |O\n",
      "-----\n",
      " |O| \n",
      "-----\n",
      "X|O|X\n"
     ]
    }
   ],
   "source": [
    "# Przykładowy ruch gracza\n",
    "game.board[2,1] = game.PLAYER\n",
    "print(game)"
   ]
  },
  {
   "cell_type": "code",
   "execution_count": 294,
   "metadata": {},
   "outputs": [
    {
     "name": "stdout",
     "output_type": "stream",
     "text": [
      "{(0, 1): 0.00030000000000000003, (1, 2): -40, (1, 0): 50}\n",
      "X| |O\n",
      "-----\n",
      "X|O| \n",
      "-----\n",
      "X|O|X\n"
     ]
    }
   ],
   "source": [
    "# Algorytm kończący grę\n",
    "game.who_is_moving = game.COMPUTER\n",
    "game.computer_move(algorithm=MiniMaxTicTacToe,debug= True)\n",
    "print(game)"
   ]
  },
  {
   "cell_type": "markdown",
   "metadata": {},
   "source": [
    "### Czas przeszukiwania a zadana głębokość i wersja algorytmu\n",
    "Oczywiście w późniejszych stadiach gry, często nie ma dość możliwości aby sprawdzać dość głęboko."
   ]
  },
  {
   "cell_type": "markdown",
   "metadata": {},
   "source": [
    "#### Prosty MiniMax"
   ]
  },
  {
   "cell_type": "code",
   "execution_count": 295,
   "metadata": {},
   "outputs": [
    {
     "name": "stdout",
     "output_type": "stream",
     "text": [
      "Stan początkowy\n",
      " | | \n",
      "-----\n",
      " |O| \n",
      "-----\n",
      " | | \n",
      "\n",
      "\n",
      "{(0, 0): 0, (2, 1): 0, (0, 2): 0, (1, 0): 0, (2, 0): 0, (2, 2): 0, (1, 2): 0, (0, 1): 0}\n",
      "Dla głębokości 2 po czasie 0.01505s:\n",
      "X| | \n",
      "-----\n",
      " |O| \n",
      "-----\n",
      " | | \n",
      "\n",
      "\n",
      "{(2, 1): 0, (2, 2): 0, (1, 2): 0, (1, 0): 0, (0, 1): 0, (2, 0): 0, (0, 2): 0, (0, 0): 0}\n",
      "Dla głębokości 4 po czasie 0.25117s:\n",
      " | | \n",
      "-----\n",
      " |O| \n",
      "-----\n",
      " |X| \n",
      "\n",
      "\n"
     ]
    },
    {
     "name": "stdout",
     "output_type": "stream",
     "text": [
      "{(1, 2): -40, (0, 0): -0.0002, (2, 2): -0.0002, (1, 0): -40, (2, 1): -40, (0, 2): -0.0002, (2, 0): -0.0002, (0, 1): -40}\n",
      "Dla głębokości 8 po czasie 1.25580s:\n",
      "X| | \n",
      "-----\n",
      " |O| \n",
      "-----\n",
      " | | \n"
     ]
    }
   ],
   "source": [
    "# Dla każdej gry tablica początkowa jest taka sama.\n",
    "temp_board_t = np.array([[0,0,0],[0,-1,0],[0,0,0]])\n",
    "\n",
    "# Głębokość 2\n",
    "game2 = TicTacToe(2)\n",
    "game2.board = copy.copy(temp_board_t)\n",
    "game2.who_is_moving = TicTacToe.COMPUTER\n",
    "\n",
    "# Głębokość 4\n",
    "game4 = TicTacToe(4)\n",
    "game4.board = copy.copy(temp_board_t)\n",
    "game4.who_is_moving = TicTacToe.COMPUTER\n",
    "\n",
    "# Głębokość 8\n",
    "game8 = TicTacToe(8)\n",
    "game8.board = copy.copy(temp_board_t)\n",
    "game8.who_is_moving = TicTacToe.COMPUTER\n",
    "\n",
    "\n",
    "print(\"Stan początkowy\")\n",
    "print(game2)\n",
    "print(\"\\n\")\n",
    "\n",
    "ts2 = time()\n",
    "game2.computer_move(MiniMaxTicTacToe,debug=True)\n",
    "te2 = time()\n",
    "print(f\"Dla głębokości 2 po czasie {te2-ts2:.5f}s:\")\n",
    "print(game2)\n",
    "print(\"\\n\")\n",
    "ts4 = time()\n",
    "game4.computer_move(MiniMaxTicTacToe,debug=True)\n",
    "te4 = time()\n",
    "print(f\"Dla głębokości 4 po czasie {te4-ts4:.5f}s:\")\n",
    "print(game4)\n",
    "print(\"\\n\")\n",
    "\n",
    "ts8 = time()\n",
    "game8.computer_move(MiniMaxTicTacToe,debug=True)\n",
    "te8 = time()\n",
    "print(f\"Dla głębokości 8 po czasie {te8-ts8:.5f}s:\")\n",
    "print(game8)"
   ]
  },
  {
   "cell_type": "code",
   "execution_count": 296,
   "metadata": {},
   "outputs": [
    {
     "name": "stdout",
     "output_type": "stream",
     "text": [
      "Stan początkowy\n",
      "X| | \n",
      "-----\n",
      " | | \n",
      "-----\n",
      " | |O\n",
      "\n",
      "\n",
      "{(1, 0): 0, (1, 2): 0, (2, 0): 0, (2, 1): 0, (1, 1): 0, (0, 1): 0, (0, 2): 0}\n",
      "Dla głębokości 2 po czasie 0.00716s:\n",
      "X| | \n",
      "-----\n",
      "X| | \n",
      "-----\n",
      " | |O\n",
      "\n",
      "\n",
      "{(1, 2): 0, (1, 0): 0, (2, 0): 10, (0, 2): 10, (2, 1): 0, (1, 1): 0, (0, 1): 0}\n",
      "Dla głębokości 4 po czasie 0.09253s:\n",
      "X| | \n",
      "-----\n",
      " | | \n",
      "-----\n",
      "X| |O\n",
      "\n",
      "\n",
      "{(1, 1): 0.00030000000000000003, (1, 0): -40, (2, 1): 0.00030000000000000003, (0, 2): 50, (2, 0): 50, (0, 1): -40, (1, 2): 0.00030000000000000003}\n",
      "Dla głębokości 8 po czasie 0.17932s:\n",
      "X| |X\n",
      "-----\n",
      " | | \n",
      "-----\n",
      " | |O\n"
     ]
    }
   ],
   "source": [
    "# Dla każdej gry tablica początkowa jest taka sama.\n",
    "temp_board_t = np.array([[1,0,0],[0,0,0],[0,0,-1]])\n",
    "\n",
    "# Głębokość 2\n",
    "game2 = TicTacToe(2)\n",
    "game2.board = copy.copy(temp_board_t)\n",
    "game2.who_is_moving = TicTacToe.COMPUTER\n",
    "\n",
    "# Głębokość 4\n",
    "game4 = TicTacToe(4)\n",
    "game4.board = copy.copy(temp_board_t)\n",
    "game4.who_is_moving = TicTacToe.COMPUTER\n",
    "\n",
    "# Głębokość 8\n",
    "game8 = TicTacToe(8)\n",
    "game8.board = copy.copy(temp_board_t)\n",
    "game8.who_is_moving = TicTacToe.COMPUTER\n",
    "\n",
    "\n",
    "print(\"Stan początkowy\")\n",
    "print(game2)\n",
    "print(\"\\n\")\n",
    "\n",
    "ts2 = time()\n",
    "game2.computer_move(MiniMaxTicTacToe,debug=True)\n",
    "te2 = time()\n",
    "print(f\"Dla głębokości 2 po czasie {te2-ts2:.5f}s:\")\n",
    "print(game2)\n",
    "print(\"\\n\")\n",
    "ts4 = time()\n",
    "game4.computer_move(MiniMaxTicTacToe,debug=True)\n",
    "te4 = time()\n",
    "print(f\"Dla głębokości 4 po czasie {te4-ts4:.5f}s:\")\n",
    "print(game4)\n",
    "print(\"\\n\")\n",
    "\n",
    "ts8 = time()\n",
    "game8.computer_move(MiniMaxTicTacToe,debug=True)\n",
    "te8 = time()\n",
    "print(f\"Dla głębokości 8 po czasie {te8-ts8:.5f}s:\")\n",
    "print(game8)"
   ]
  },
  {
   "cell_type": "markdown",
   "metadata": {},
   "source": [
    "#### Odcięcie alfa beta"
   ]
  },
  {
   "cell_type": "code",
   "execution_count": 297,
   "metadata": {},
   "outputs": [
    {
     "name": "stdout",
     "output_type": "stream",
     "text": [
      "Stan początkowy\n",
      " | | \n",
      "-----\n",
      " |O| \n",
      "-----\n",
      " | | \n",
      "\n",
      "\n",
      "{(1, 0): 0, (2, 0): 0, (1, 2): 0, (0, 1): 0, (0, 0): 0, (0, 2): 0, (2, 2): 0, (2, 1): 0}\n",
      "Dla głębokości 2 po czasie 0.00652s:\n",
      " | | \n",
      "-----\n",
      "X|O| \n",
      "-----\n",
      " | | \n",
      "\n",
      "\n",
      "{(2, 2): 0, (0, 1): 0, (2, 0): 0, (0, 2): 0, (0, 0): 0, (1, 2): 0, (1, 0): 0, (2, 1): 0}\n",
      "Dla głębokości 4 po czasie 0.06605s:\n",
      " | | \n",
      "-----\n",
      " |O| \n",
      "-----\n",
      " | |X\n",
      "\n",
      "\n",
      "{(1, 0): -40, (0, 0): -0.0002, (2, 1): -40, (0, 1): -40, (2, 2): -0.0002, (1, 2): -40, (2, 0): -0.0002, (0, 2): -0.0002}\n",
      "Dla głębokości 8 po czasie 0.21509s:\n",
      "X| | \n",
      "-----\n",
      " |O| \n",
      "-----\n",
      " | | \n"
     ]
    }
   ],
   "source": [
    "# Dla każdej gry tablica początkowa jest taka sama.\n",
    "temp_board_t = np.array([[0,0,0],[0,-1,0],[0,0,0]])\n",
    "\n",
    "# Głębokość 2\n",
    "game2 = TicTacToe(2)\n",
    "game2.board = copy.copy(temp_board_t)\n",
    "game2.who_is_moving = TicTacToe.COMPUTER\n",
    "\n",
    "# Głębokość 4\n",
    "game4 = TicTacToe(4)\n",
    "game4.board = copy.copy(temp_board_t)\n",
    "game4.who_is_moving = TicTacToe.COMPUTER\n",
    "\n",
    "# Głębokość 8\n",
    "game8 = TicTacToe(8)\n",
    "game8.board = copy.copy(temp_board_t)\n",
    "game8.who_is_moving = TicTacToe.COMPUTER\n",
    "\n",
    "\n",
    "print(\"Stan początkowy\")\n",
    "print(game2)\n",
    "print(\"\\n\")\n",
    "\n",
    "ts2 = time()\n",
    "game2.computer_move(AlfaBeta,debug=True)\n",
    "te2 = time()\n",
    "print(f\"Dla głębokości 2 po czasie {te2-ts2:.5f}s:\")\n",
    "print(game2)\n",
    "print(\"\\n\")\n",
    "ts4 = time()\n",
    "game4.computer_move(AlfaBeta,debug=True)\n",
    "te4 = time()\n",
    "print(f\"Dla głębokości 4 po czasie {te4-ts4:.5f}s:\")\n",
    "print(game4)\n",
    "print(\"\\n\")\n",
    "\n",
    "ts8 = time()\n",
    "game8.computer_move(AlfaBeta,debug=True)\n",
    "te8 = time()\n",
    "print(f\"Dla głębokości 8 po czasie {te8-ts8:.5f}s:\")\n",
    "print(game8)"
   ]
  },
  {
   "cell_type": "code",
   "execution_count": 298,
   "metadata": {},
   "outputs": [
    {
     "name": "stdout",
     "output_type": "stream",
     "text": [
      "Stan początkowy\n",
      "X| | \n",
      "-----\n",
      " | | \n",
      "-----\n",
      " | |O\n",
      "\n",
      "\n",
      "{(1, 1): 0, (1, 0): 0, (2, 1): 0, (2, 0): 0, (0, 2): 0, (1, 2): 0, (0, 1): 0}\n",
      "Dla głębokości 2 po czasie 0.00450s:\n",
      "X| | \n",
      "-----\n",
      " |X| \n",
      "-----\n",
      " | |O\n",
      "\n",
      "\n",
      "{(2, 1): 0, (1, 2): 0, (1, 0): 0, (1, 1): 0, (0, 1): 0, (2, 0): 10, (0, 2): 10}\n",
      "Dla głębokości 4 po czasie 0.02807s:\n",
      "X| | \n",
      "-----\n",
      " | | \n",
      "-----\n",
      "X| |O\n",
      "\n",
      "\n",
      "{(2, 0): 50, (0, 1): -40, (2, 1): 0.00030000000000000003, (1, 1): 0.00030000000000000003, (1, 2): 0.00030000000000000003, (1, 0): -40, (0, 2): 50}\n",
      "Dla głębokości 8 po czasie 0.05040s:\n",
      "X| | \n",
      "-----\n",
      " | | \n",
      "-----\n",
      "X| |O\n"
     ]
    }
   ],
   "source": [
    "# Dla każdej gry tablica początkowa jest taka sama.\n",
    "temp_board_t = np.array([[1,0,0],[0,0,0],[0,0,-1]])\n",
    "\n",
    "# Głębokość 2\n",
    "game2 = TicTacToe(2)\n",
    "game2.board = copy.copy(temp_board_t)\n",
    "game2.who_is_moving = TicTacToe.COMPUTER\n",
    "\n",
    "# Głębokość 4\n",
    "game4 = TicTacToe(4)\n",
    "game4.board = copy.copy(temp_board_t)\n",
    "game4.who_is_moving = TicTacToe.COMPUTER\n",
    "\n",
    "# Głębokość 8\n",
    "game8 = TicTacToe(8)\n",
    "game8.board = copy.copy(temp_board_t)\n",
    "game8.who_is_moving = TicTacToe.COMPUTER\n",
    "\n",
    "\n",
    "print(\"Stan początkowy\")\n",
    "print(game2)\n",
    "print(\"\\n\")\n",
    "\n",
    "ts2 = time()\n",
    "game2.computer_move(AlfaBeta,debug=True)\n",
    "te2 = time()\n",
    "print(f\"Dla głębokości 2 po czasie {te2-ts2:.5f}s:\")\n",
    "print(game2)\n",
    "print(\"\\n\")\n",
    "ts4 = time()\n",
    "game4.computer_move(AlfaBeta,debug=True)\n",
    "te4 = time()\n",
    "print(f\"Dla głębokości 4 po czasie {te4-ts4:.5f}s:\")\n",
    "print(game4)\n",
    "print(\"\\n\")\n",
    "\n",
    "ts8 = time()\n",
    "game8.computer_move(AlfaBeta,debug=True)\n",
    "te8 = time()\n",
    "print(f\"Dla głębokości 8 po czasie {te8-ts8:.5f}s:\")\n",
    "print(game8)"
   ]
  },
  {
   "cell_type": "markdown",
   "metadata": {},
   "source": [
    "## Podsumowanie i wnioski\n",
    "Heurystyczna funkcja wypłaty pozostawia wiele do życzenia, dlatego działania algorytmu o małej głębokości i pustej tablicy wydaję się losowe. Dopiero przy większej głębkości jak 4 czy 8 dla algorytmu daje się zaobserwować skuteczne przeszukiwanie przestrzeni za rozwiązaniami.\n",
    "\n",
    "Nie jest żadnym zaskoczeniem, że zwiększenie głębokości przeszukiwania wydłuża czas obliczeń, ponieważ jest sprawdzanie znacznie więcej węzłów. Przy późniejszych stadiach rozgrywki, z racji że gra w kółko i krzyżyk jest stosunkowo krótka, nie ma możliwości wyczerpania całej głębokości więc algorytm znacznie przyspiesza przy kilku polach do wypełnienia i jakość jego odpowiedzi, dla małej głębokości rośnie.\n",
    "\n",
    "Metoda Alfa Beta w znacznym stopniu skraca działanie algorytmu. Przycinając drzewo przeszukań o gałęzie, które na pewno nie zostaną wybrane udało się w znacznym stopniu zmniejszyć czas obliczeń."
   ]
  }
 ],
 "metadata": {
  "kernelspec": {
   "display_name": "Python 3",
   "language": "python",
   "name": "python3"
  },
  "language_info": {
   "codemirror_mode": {
    "name": "ipython",
    "version": 3
   },
   "file_extension": ".py",
   "mimetype": "text/x-python",
   "name": "python",
   "nbconvert_exporter": "python",
   "pygments_lexer": "ipython3",
   "version": "3.11.5"
  }
 },
 "nbformat": 4,
 "nbformat_minor": 2
}
